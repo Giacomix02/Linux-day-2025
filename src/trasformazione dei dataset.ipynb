{
 "cells": [
  {
   "metadata": {},
   "cell_type": "markdown",
   "source": "Qui mettiamo gli import necessari per gli scripts",
   "id": "a3eaeb5db9bf7ab3"
  },
  {
   "metadata": {
    "ExecuteTime": {
     "end_time": "2025-09-01T23:11:13.255176Z",
     "start_time": "2025-09-01T23:11:12.951204Z"
    }
   },
   "cell_type": "code",
   "source": "import pandas as pd",
   "id": "1ab07ef0073374a",
   "outputs": [],
   "execution_count": 1
  },
  {
   "metadata": {},
   "cell_type": "markdown",
   "source": "Prima di tutto uniamo i due dataset di train usando pandas",
   "id": "2abdfc0a3ee78683"
  },
  {
   "metadata": {
    "ExecuteTime": {
     "end_time": "2025-09-01T23:11:19.839098Z",
     "start_time": "2025-09-01T23:11:14.404682Z"
    }
   },
   "cell_type": "code",
   "source": [
    "# Unire due file Parquet\n",
    "df1 = pd.read_parquet('Dataset/Original/train-00000-of-00002.parquet')\n",
    "df2 = pd.read_parquet('Dataset/Original/train-00001-of-00002.parquet')\n",
    "\n",
    "# Unione verticale\n",
    "df_unito = pd.concat([df1, df2])\n",
    "\n",
    "# Salvare il risultato\n",
    "df_unito.to_parquet('Dataset/Processed/train.parquet')"
   ],
   "id": "651dac947b2b7878",
   "outputs": [],
   "execution_count": 2
  },
  {
   "metadata": {},
   "cell_type": "markdown",
   "source": "Ora per lavorarci meglio e per scelta personale li trasformo in csv",
   "id": "5aa1888a3d0bab0c"
  },
  {
   "metadata": {
    "ExecuteTime": {
     "end_time": "2025-09-01T23:18:16.421529Z",
     "start_time": "2025-09-01T23:18:03.740267Z"
    }
   },
   "cell_type": "code",
   "source": [
    "train = pd.read_parquet('Dataset/Processed/train.parquet')\n",
    "test = pd.read_parquet('Dataset/Processed/test.parquet')\n",
    "\n",
    "train.to_csv('Dataset/Processed/csv/train.csv', index=False)\n",
    "test.to_csv('Dataset/Processed/csv/test.csv', index=False)\n"
   ],
   "id": "b656dbebc5579c9e",
   "outputs": [],
   "execution_count": 5
  }
 ],
 "metadata": {
  "kernelspec": {
   "name": "python3",
   "language": "python",
   "display_name": "Python 3 (ipykernel)"
  }
 },
 "nbformat": 4,
 "nbformat_minor": 5
}
