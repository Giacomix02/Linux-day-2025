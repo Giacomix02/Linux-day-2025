{
 "cells": [
  {
   "metadata": {},
   "cell_type": "markdown",
   "source": "Qui mettiamo gli import necessari per gli scripts",
   "id": "299b58283f24e88c"
  },
  {
   "metadata": {},
   "cell_type": "code",
   "source": [
    "import pandas as pd\n",
    "import seaborn as sns\n",
    "import plotly\n",
    "import plotly.express as px\n",
    "import plotly.figure_factory as ff\n",
    "import matplotlib.pyplot as plt\n",
    "from sklearn.metrics import confusion_matrix\n",
    "from sklearn.metrics import classification_report\n",
    "import numpy as np\n",
    "from wordcloud import WordCloud\n",
    "import nltk\n",
    "from nltk.corpus import stopwords\n",
    "from src.Vectorizer.NLTKVectorizer import NLTKVectorizer"
   ],
   "id": "dca5ef1598d2f263",
   "outputs": [],
   "execution_count": null
  },
  {
   "metadata": {},
   "cell_type": "markdown",
   "source": "Dichiariamo le variabili che contengono i dati per il training e il testing",
   "id": "3a0df610448b5db1"
  },
  {
   "metadata": {},
   "cell_type": "code",
   "source": [
    "dfTrain = pd.read_csv('../Dataset/Processed/csv/train.csv')\n",
    "dfTest = pd.read_csv('../Dataset/Processed/csv/test.csv')\n",
    "\n",
    "#dichiarimo le variabili x e y per il train e il test\n",
    "\n",
    "X_train = dfTrain['question_content']\n",
    "y_train = dfTrain['topic']\n",
    "X_test = dfTest['question_content']\n",
    "y_test = dfTest['topic']"
   ],
   "id": "e8ed91491eeca3ea",
   "outputs": [],
   "execution_count": null
  },
  {
   "metadata": {},
   "cell_type": "markdown",
   "source": "# Creiamo qualche grafico dal dataset",
   "id": "566c82e4ae67632a"
  },
  {
   "metadata": {},
   "cell_type": "markdown",
   "source": "## Mettiamo qui qualche funzione che serve solo al funzionamento e al plot dei grafici",
   "id": "d768519b654cc39a"
  },
  {
   "metadata": {},
   "cell_type": "markdown",
   "source": "Questa funzione viene utilizata per creare una palette di n colori di palette_name colori.",
   "id": "b62172456c95f222"
  },
  {
   "metadata": {},
   "cell_type": "code",
   "outputs": [],
   "execution_count": null,
   "source": [
    "def get_n_color_palette(palette_name, n_colors, as_hex=False):\n",
    "    palette = sns.color_palette(palette=palette_name, n_colors=n_colors)\n",
    "    if as_hex:\n",
    "        palette = palette.as_hex()\n",
    "    palette.reverse()\n",
    "    return palette"
   ],
   "id": "5b3b872e52d0113f"
  },
  {
   "metadata": {},
   "cell_type": "markdown",
   "source": [
    "Questa funzione è utilizzata per esportare l' HTML di plotly fig_obj, e salvarlo in: assets/file_name.html.\n",
    "La funzione genera il report di classificazione per le previsioni del modello"
   ],
   "id": "20566cd9fbbd9c98"
  },
  {
   "metadata": {},
   "cell_type": "code",
   "outputs": [],
   "execution_count": null,
   "source": [
    "def save_fig_as_div(fig_obj, file_name):\n",
    "    with open(f\"{file_name}\", \"w\") as fig_file:\n",
    "        fig_div_string = plotly.offline.plot(\n",
    "            figure_or_data=fig_obj, output_type=\"div\", include_plotlyjs=\"cdn\"\n",
    "        )\n",
    "        fig_file.write(fig_div_string)"
   ],
   "id": "d3656954d59b5f6b"
  },
  {
   "metadata": {},
   "cell_type": "markdown",
   "source": "Questa funzione genera una confusion map per le previsioni del modello",
   "id": "17704b51a68ab427"
  },
  {
   "metadata": {},
   "cell_type": "code",
   "outputs": [],
   "execution_count": null,
   "source": [
    "def get_confusion_matrix(y_true, y_pred, labels):\n",
    "\n",
    "    # calcola la confusion matrix\n",
    "    conf_matrix = confusion_matrix(y_true=y_true, y_pred=y_pred, labels=labels)\n",
    "\n",
    "\n",
    "    sum = 0\n",
    "    diag = 0\n",
    "\n",
    "    for i in range(len(conf_matrix)):\n",
    "        for j in range(len(conf_matrix[i])):\n",
    "            sum += conf_matrix[i][j]\n",
    "            if i == j:\n",
    "                diag += conf_matrix[i][j]\n",
    "\n",
    "\n",
    "\n",
    "    print(f\"Diagonale: {diag}, Totale: {sum}\")\n",
    "    print(f\"Accuratezza: {(diag/sum)*100}%\")\n",
    "\n",
    "\n",
    "\n",
    "    conf_matrix = np.flipud(conf_matrix)\n",
    "\n",
    "    # crea una heatmap annotata della matrice di confusione\n",
    "    fig = ff.create_annotated_heatmap(\n",
    "        conf_matrix, x=labels.tolist(), y=labels.tolist()[::-1]\n",
    "    )\n",
    "    fig.update_layout(\n",
    "        autosize=False,\n",
    "        width=800,\n",
    "        height=800,\n",
    "        title_text=\"<i><b>Confusion matrix</b></i>\",\n",
    "        xaxis_title=\"Predicted category\",\n",
    "        yaxis_title=\"Real category\",\n",
    "        plot_bgcolor=\"rgba(0, 0, 0, 0)\",\n",
    "        paper_bgcolor=\"rgba(0, 0, 0, 0)\",\n",
    "        font={\n",
    "            \"family\": \"Courier New, monospace\",\n",
    "            \"size\": 14,\n",
    "            # 'color': \"#eaeaea\"\n",
    "        },\n",
    "    )\n",
    "    fig.update_xaxes(tickangle=-45)\n",
    "    fig[\"data\"][0][\"showscale\"] = True\n",
    "\n",
    "    return fig"
   ],
   "id": "eb59c634d065082e"
  },
  {
   "metadata": {},
   "cell_type": "markdown",
   "source": "Funzione per il classification report",
   "id": "20b1e4cb4fd79782"
  },
  {
   "metadata": {},
   "cell_type": "code",
   "outputs": [],
   "execution_count": null,
   "source": [
    "def get_classification_report(y_true, y_pred, target_names):\n",
    "\n",
    "    # calcola il report di classificazione e lo converte in un DataFrame\n",
    "\n",
    "    clf_report = classification_report(\n",
    "        y_true=y_true, y_pred=y_pred, target_names=target_names, output_dict=True\n",
    "    )\n",
    "    clf_report_df = pd.DataFrame(data=clf_report)\n",
    "    clf_report_df = clf_report_df.T\n",
    "    clf_report_df.drop(columns=[\"support\"], inplace=True)\n",
    "\n",
    "    measures = clf_report_df.columns.tolist()\n",
    "    classes = clf_report_df.index.tolist()\n",
    "\n",
    "    # crea un heatmap annotato di plotly e aggiorna lo stile\n",
    "\n",
    "    fig = ff.create_annotated_heatmap(clf_report_df.values, x=measures, y=classes)\n",
    "    fig.update_layout(\n",
    "        autosize=False,\n",
    "        width=800,\n",
    "        height=800,\n",
    "        title_text=\"<i><b>Classification report</b></i>\",\n",
    "        xaxis_title=\"Measures\",\n",
    "        yaxis_title=\"Class\",\n",
    "        plot_bgcolor=\"rgba(0, 0, 0, 0)\",\n",
    "        paper_bgcolor=\"rgba(0, 0, 0, 0)\",\n",
    "        font={\n",
    "            \"family\": \"Courier New, monospace\",\n",
    "            \"size\": 14,\n",
    "            # 'color': \"#eaeaea\"\n",
    "        },\n",
    "    )\n",
    "    fig.update_xaxes(tickangle=-45)\n",
    "    fig[\"data\"][0][\"showscale\"] = True\n",
    "\n",
    "    return fig"
   ],
   "id": "712fdb256ed1e589"
  },
  {
   "metadata": {},
   "cell_type": "markdown",
   "source": "Calcola per ogni topic nel dataset il numero di domande per topic",
   "id": "baa8a4960950b699"
  },
  {
   "metadata": {},
   "cell_type": "code",
   "outputs": [],
   "execution_count": null,
   "source": [
    "categories_statistics_df = (\n",
    "    dfTrain.groupby(by=\"topic\")[\"id\"]\n",
    "    .agg(\n",
    "        [\n",
    "            (\"count\", lambda x: x.size),\n",
    "        ]\n",
    "    )\n",
    "    .reset_index()\n",
    "    .sort_values(by=\"count\", ascending=False)\n",
    ")"
   ],
   "id": "a968cbccc325d83a"
  },
  {
   "metadata": {},
   "cell_type": "markdown",
   "source": "Calcola per ogni topic nel dataset la lunghezza media delle domande per topic",
   "id": "a612debeb62415b6"
  },
  {
   "metadata": {},
   "cell_type": "code",
   "outputs": [],
   "execution_count": null,
   "source": [
    "categories_statistics_df_questions = (\n",
    "    dfTrain.groupby(by=\"topic\")[\"question_content\"]\n",
    "    .agg(\n",
    "        [\n",
    "            (\"mean\", lambda x: x.str.len().mean()),\n",
    "            (\"max\", lambda x: x.str.len().max()),\n",
    "            (\"min\", lambda x: x.str.len().min()),\n",
    "        ]\n",
    "    )\n",
    "    .reset_index()\n",
    ")"
   ],
   "id": "4baceaa76a7f4bc4"
  },
  {
   "metadata": {},
   "cell_type": "markdown",
   "source": "## Qui abbiamo le funzioni che generano i grafici sul dataset",
   "id": "2f7cce0e6a7747a4"
  },
  {
   "metadata": {},
   "cell_type": "markdown",
   "source": "#### Numero domande per topic:",
   "id": "3a51d7c7631fbcc2"
  },
  {
   "metadata": {},
   "cell_type": "markdown",
   "source": "Usiamo un grafico a torta per mostrare le percentuali di domande per ogni topic",
   "id": "8a3e106cb57dbbe6"
  },
  {
   "metadata": {},
   "cell_type": "code",
   "outputs": [],
   "execution_count": null,
   "source": [
    "blue_palette = get_n_color_palette(\"Blues\", 20, True)\n",
    "\n",
    "fig = px.pie(\n",
    "    data_frame=categories_statistics_df,\n",
    "    names=\"topic\",\n",
    "    values=\"count\",\n",
    "    color_discrete_sequence=blue_palette,\n",
    "    title=\"Percentuale di domande per topic\",\n",
    "    width=800,\n",
    "    height=500,\n",
    ")\n",
    "\n",
    "fig.update_layout(\n",
    "    {\n",
    "        \"plot_bgcolor\": \"rgba(0, 0, 0, 0)\",\n",
    "        \"paper_bgcolor\": \"rgba(0, 0, 0, 0)\",\n",
    "        \"font\": {\n",
    "            \"family\": \"Courier New, monospace\",\n",
    "            \"size\": 14,\n",
    "            # 'color': \"#eaeaea\"\n",
    "        },\n",
    "    }\n",
    ")\n",
    "\n",
    "fig.show()"
   ],
   "id": "a9604ab0304b696f"
  },
  {
   "metadata": {},
   "cell_type": "markdown",
   "source": "",
   "id": "4a65830660c0e9fe"
  },
  {
   "metadata": {},
   "cell_type": "markdown",
   "source": "#### Lunghezza media delle domande per topic:",
   "id": "366dda4150ea9ecc"
  },
  {
   "metadata": {},
   "cell_type": "markdown",
   "source": "Usa un diagramma a barre per mostrare la lunghezza media delle domande per ogni topic:",
   "id": "3b955a76de33c981"
  },
  {
   "metadata": {},
   "cell_type": "code",
   "outputs": [],
   "execution_count": null,
   "source": [
    "chart_labels = {\"mean\": \"Lunghezza delle domande\", \"Topic\": \"Topic type\"}\n",
    "\n",
    "fig = px.bar(\n",
    "    data_frame=categories_statistics_df_questions.sort_values(by=\"mean\"),\n",
    "    x=\"topic\",\n",
    "    y=\"mean\",\n",
    "    color=\"mean\",\n",
    "    labels=chart_labels,\n",
    "    title=\"Lunghezza media delle domande per topic\",\n",
    "    width=800,\n",
    "    height=500,\n",
    ")\n",
    "\n",
    "fig.update_layout(\n",
    "    {\n",
    "        \"plot_bgcolor\": \"rgba(0, 0, 0, 0)\",\n",
    "        \"paper_bgcolor\": \"rgba(0, 0, 0, 0)\",\n",
    "        \"font\": {\n",
    "            \"family\": \"Courier New, monospace\",\n",
    "            \"size\": 14,\n",
    "            # 'color': \"#eaeaea\"\n",
    "        },\n",
    "    }\n",
    ")\n",
    "\n",
    "# rotate x-axis ticks\n",
    "fig.update_xaxes(tickangle=-45)\n",
    "\n",
    "fig.show()"
   ],
   "id": "3495219084ab7462"
  },
  {
   "metadata": {},
   "cell_type": "markdown",
   "source": "#### Word Cloud",
   "id": "15889cb06e9a077f"
  },
  {
   "metadata": {},
   "cell_type": "markdown",
   "source": [
    "La seguente word-cloud ci aiuterà a dare uno sguardo ai dati e al suo contenuto.\n",
    "\n",
    "Per ogni word cloud, le parole con una frequenza maggiore hanno una dimensione maggiore.\n",
    "\n",
    "Questo ci aiuterà a capire quali sono le parole più frequenti in ogni topic."
   ],
   "id": "fdc08b10afdbe001"
  },
  {
   "metadata": {},
   "cell_type": "code",
   "outputs": [],
   "execution_count": null,
   "source": [
    "nltk.download('punkt')\n",
    "\n",
    "nltk.download('stopwords')\n",
    "\n",
    "nltk.download('wordnet')\n",
    "\n",
    "en_stop_words = list(set(stopwords.words(\"english\")))"
   ],
   "id": "fa77473555a54c84"
  },
  {
   "metadata": {},
   "cell_type": "code",
   "outputs": [],
   "execution_count": null,
   "source": "categories_text_df = dfTrain.groupby(by=\"topic\").agg({\"question_content\": \" \".join}).reset_index()",
   "id": "5f0a9e7f40d1628a"
  },
  {
   "metadata": {},
   "cell_type": "code",
   "outputs": [],
   "execution_count": null,
   "source": [
    "def plot_word_cloud(category_name, category_text):\n",
    "    plt.subplots(figsize=(8, 8))\n",
    "    wc = WordCloud(\n",
    "        background_color=\"white\", stopwords=en_stop_words, width=1000, height=600\n",
    "    )\n",
    "    wc.generate(category_text)\n",
    "    plt.title(label=category_name)\n",
    "    plt.axis(\"off\")\n",
    "    plt.imshow(wc, interpolation=\"bilinear\")\n",
    "    plt.show()"
   ],
   "id": "c6417abc7257f3ba"
  },
  {
   "metadata": {},
   "cell_type": "code",
   "outputs": [],
   "execution_count": null,
   "source": [
    "for idx, row in categories_text_df.iterrows():\n",
    "    plot_word_cloud(row[\"topic\"], row[\"question_content\"])"
   ],
   "id": "ccef4ccc5cfa64a5"
  },
  {
   "metadata": {},
   "cell_type": "markdown",
   "source": [
    "Notiamo che le parole più comunemente usate, che però non rispecchiano il topic sono:\n",
    "- think\n",
    "- would\n",
    "- get\n",
    "- want\n",
    "\n",
    "Quindi sono state aggiunte alla lista di stopwords."
   ],
   "id": "114ea14b8b5b7c70"
  },
  {
   "metadata": {},
   "cell_type": "code",
   "outputs": [],
   "execution_count": null,
   "source": [
    "# aggiungo a en_stop_words le parole dal file da noi creato\n",
    "with open('stopwordsPersonali', 'r') as file:\n",
    "    for line in file:\n",
    "        en_stop_words.append(line.strip())"
   ],
   "id": "7c08da8a056d5d87"
  },
  {
   "metadata": {},
   "cell_type": "markdown",
   "source": "# Text Vectorization",
   "id": "197f58349688d552"
  },
  {
   "metadata": {},
   "cell_type": "markdown",
   "source": [
    "La **text vectorization** (vettorizzazione del testo) è un processo fondamentale nel machine learning applicato al natural language processing che trasforma il testo in numeri. Serve per:\n",
    "\n",
    "\n",
    "- Rappresentare il testo come vettori numerici: i modelli di machine learning lavorano solo con dati numerici, non con testo grezzo\n",
    "\n",
    "\n",
    "- Catturare la semantica: trasforma le parole/frasi in rappresentazioni che mantengono relazioni semantiche (significato)\n",
    "\n",
    "\n",
    "- Permettere calcoli matematici: consente di misurare similitudini tra documenti, fare clustering, classificazione, ecc.\n",
    "\n",
    "\n",
    "- Ridurre la dimensionalità: converte testi variabili in vettori di dimensione fissa\n",
    "\n",
    "Nel nostro caso andremo a utilizzare _NLTKVectorizer_"
   ],
   "id": "15b6c871423c411a"
  },
  {
   "metadata": {},
   "cell_type": "code",
   "outputs": [],
   "execution_count": null,
   "source": "",
   "id": "e3b03c09720157ba"
  }
 ],
 "metadata": {
  "kernelspec": {
   "display_name": "Python 3",
   "language": "python",
   "name": "python3"
  },
  "language_info": {
   "codemirror_mode": {
    "name": "ipython",
    "version": 2
   },
   "file_extension": ".py",
   "mimetype": "text/x-python",
   "name": "python",
   "nbconvert_exporter": "python",
   "pygments_lexer": "ipython2",
   "version": "2.7.6"
  }
 },
 "nbformat": 4,
 "nbformat_minor": 5
}
